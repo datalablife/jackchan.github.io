{
 "cells": [
  {
   "cell_type": "code",
   "execution_count": 1,
   "metadata": {},
   "outputs": [],
   "source": [
    "import pandas as pd\n",
    "import numpy as np\n",
    "\n",
    "np.random.seed(123)\n",
    "\n",
    "sample_size = 3650\n",
    "years = [1992,1993,1994,1995]\n",
    "\n",
    "df = pd.DataFrame([np.random.normal(32000,200000,sample_size),\n",
    "                   np.random.normal(38000,100000,sample_size),\n",
    "                   np.random.normal(38000,140000,sample_size),\n",
    "                   np.random.normal(46000,70000,sample_size)],\n",
    "                  index=years)"
   ]
  },
  {
   "cell_type": "code",
   "execution_count": 2,
   "metadata": {},
   "outputs": [
    {
     "data": {
      "text/html": [
       "<div>\n",
       "<style scoped>\n",
       "    .dataframe tbody tr th:only-of-type {\n",
       "        vertical-align: middle;\n",
       "    }\n",
       "\n",
       "    .dataframe tbody tr th {\n",
       "        vertical-align: top;\n",
       "    }\n",
       "\n",
       "    .dataframe thead th {\n",
       "        text-align: right;\n",
       "    }\n",
       "</style>\n",
       "<table border=\"1\" class=\"dataframe\">\n",
       "  <thead>\n",
       "    <tr style=\"text-align: right;\">\n",
       "      <th></th>\n",
       "      <th>1992</th>\n",
       "      <th>1993</th>\n",
       "      <th>1994</th>\n",
       "      <th>1995</th>\n",
       "    </tr>\n",
       "  </thead>\n",
       "  <tbody>\n",
       "    <tr>\n",
       "      <th>count</th>\n",
       "      <td>3650.000000</td>\n",
       "      <td>3650.000000</td>\n",
       "      <td>3650.000000</td>\n",
       "      <td>3650.000000</td>\n",
       "    </tr>\n",
       "    <tr>\n",
       "      <th>mean</th>\n",
       "      <td>32781.548207</td>\n",
       "      <td>40754.771218</td>\n",
       "      <td>39544.775190</td>\n",
       "      <td>47063.842477</td>\n",
       "    </tr>\n",
       "    <tr>\n",
       "      <th>std</th>\n",
       "      <td>196129.408946</td>\n",
       "      <td>99529.202882</td>\n",
       "      <td>142940.207648</td>\n",
       "      <td>70280.514695</td>\n",
       "    </tr>\n",
       "    <tr>\n",
       "      <th>min</th>\n",
       "      <td>-728275.639372</td>\n",
       "      <td>-330549.920645</td>\n",
       "      <td>-463406.352267</td>\n",
       "      <td>-200359.770940</td>\n",
       "    </tr>\n",
       "    <tr>\n",
       "      <th>25%</th>\n",
       "      <td>-99814.793827</td>\n",
       "      <td>-27900.364969</td>\n",
       "      <td>-58383.294166</td>\n",
       "      <td>-581.586767</td>\n",
       "    </tr>\n",
       "    <tr>\n",
       "      <th>50%</th>\n",
       "      <td>35411.206291</td>\n",
       "      <td>40931.612888</td>\n",
       "      <td>39898.420989</td>\n",
       "      <td>46298.557029</td>\n",
       "    </tr>\n",
       "    <tr>\n",
       "      <th>75%</th>\n",
       "      <td>164612.435924</td>\n",
       "      <td>110066.985573</td>\n",
       "      <td>134479.059024</td>\n",
       "      <td>93254.766269</td>\n",
       "    </tr>\n",
       "    <tr>\n",
       "      <th>max</th>\n",
       "      <td>746315.843605</td>\n",
       "      <td>341787.847155</td>\n",
       "      <td>607533.568077</td>\n",
       "      <td>292816.184378</td>\n",
       "    </tr>\n",
       "  </tbody>\n",
       "</table>\n",
       "</div>"
      ],
      "text/plain": [
       "                1992           1993           1994           1995\n",
       "count    3650.000000    3650.000000    3650.000000    3650.000000\n",
       "mean    32781.548207   40754.771218   39544.775190   47063.842477\n",
       "std    196129.408946   99529.202882  142940.207648   70280.514695\n",
       "min   -728275.639372 -330549.920645 -463406.352267 -200359.770940\n",
       "25%    -99814.793827  -27900.364969  -58383.294166    -581.586767\n",
       "50%     35411.206291   40931.612888   39898.420989   46298.557029\n",
       "75%    164612.435924  110066.985573  134479.059024   93254.766269\n",
       "max    746315.843605  341787.847155  607533.568077  292816.184378"
      ]
     },
     "execution_count": 2,
     "metadata": {},
     "output_type": "execute_result"
    }
   ],
   "source": [
    "df = df.transpose()\n",
    "\n",
    "df.describe()"
   ]
  },
  {
   "cell_type": "code",
   "execution_count": 3,
   "metadata": {},
   "outputs": [],
   "source": [
    "#from scipy import stats \n",
    "#\n",
    "#df = df.transpose()\n",
    "#ye1 = list(df.apply(lambda x: stats.t.interval(0.95, len(x)-1, loc =np.mean(x), scale=stats.sem(x)), axis=1))\n",
    "\n"
   ]
  },
  {
   "cell_type": "code",
   "execution_count": 4,
   "metadata": {},
   "outputs": [],
   "source": [
    "import math\n",
    "\n",
    "nearest = 100\n",
    "Y = 39000\n",
    "\n",
    "df_p = pd.DataFrame()\n",
    "df_p['diff'] = nearest*((Y-df.mean())//nearest)\n",
    "df_p['sign'] = df_p['diff'].abs()/df_p['diff']\n",
    "\n",
    "old_range = abs(df_p['diff']).min(),df_p['diff'].abs().max()\n",
    "new_range = 0.5,1\n",
    "\n",
    "df_p['shade'] = df_p['sign']*np.interp(df_p['diff'].abs(), old_range, new_range)"
   ]
  },
  {
   "cell_type": "code",
   "execution_count": 5,
   "metadata": {},
   "outputs": [],
   "source": [
    "shade = list(df_p['shade'])\n",
    "\n",
    "from matplotlib import cm\n",
    "\n",
    "blues = cm.Blues\n",
    "reds = cm.Reds\n",
    "\n",
    "color = ['White' if x == 0 else reds(abs(x))\n",
    "         if x < 0 else blues(abs(x)) for x in shade]"
   ]
  },
  {
   "cell_type": "code",
   "execution_count": 6,
   "metadata": {},
   "outputs": [
    {
     "data": {
      "text/plain": [
       "[6362.859867867298, 3228.9414122013295, 4637.287776638477, 2280.051058377018]"
      ]
     },
     "execution_count": 6,
     "metadata": {},
     "output_type": "execute_result"
    }
   ],
   "source": [
    "import math\n",
    "\n",
    "mean = list(df.mean())\n",
    "\n",
    "std = list(df.std())\n",
    "\n",
    "ye1 = []\n",
    "\n",
    "for i in range (4) :\n",
    "    ye1.append(1.96*(std[i]/math.sqrt(len(df))))\n",
    "    \n",
    "ye1  "
   ]
  },
  {
   "cell_type": "code",
   "execution_count": 9,
   "metadata": {},
   "outputs": [
    {
     "data": {
      "application/vnd.jupyter.widget-view+json": {
       "model_id": "8a1b803dfcdd492b8399b7e0b46acbdc",
       "version_major": 2,
       "version_minor": 0
      },
      "image/png": "[encoded data removed]",
      "text/html": [
       "\n",
       "            <div style=\"display: inline-block;\">\n",
       "                <div class=\"jupyter-widgets widget-label\" style=\"text-align: center;\">\n",
       "                    Figure\n",
       "                </div>\n",
       "                <img src='data:image/png;base64,iVBORw0KGgoAAAANSUhEUgAAAeAAAAHgCAYAAAB91L6VAAAAOXRFWHRTb2Z0d2FyZQBNYXRwbG90bGliIHZlcnNpb24zLjYuMCwgaHR0cHM6Ly9tYXRwbG90bGliLm9yZy89olMNAAAACXBIWXMAAAxOAAAMTgF/d4wjAAAq3klEQVR4nO3dfViUdaL/8c/AoIAwsIIoylMK2mooUbZquaa5bm0PurrUKhZsGVpXx4pO2tbu1tkevOoYneqcX1Rb9MBmS7ma23E9hzYft+yqVbCsFDEaUBRBBVHUAb6/P8w5svnIw3wdfb+uiyuY7z33fO975urNfc/N6DDGGAEAAJ8KsD0BAADORwQYAAALCDAAABYQYAAALCDAAABYQIABALCAAAMAYAEBBgDAAgIMAIAFBBgAAAsIMAAAFhBgdDq3262wsDBt3brV9lROy/Tp05Wdnd1l61+xYoUcDoeam5u77DEA+B8CDF155ZXq1q2bwsLC2nz96U9/OuV9H3nkEV1xxRVtbktISFBjY6P69+/fVVOWJDkcDn3wwQdd+hj33nuvLr744uOO5efnKyoqSk1NTV06h47Kzs5WUFBQm+c2KSnJ9rT0m9/8RhdffLG6dev2vdeQJLW2turf//3flZycrLCwMKWmpur9999vs0xVVZVuuukm9e7dWy6XS1OmTNH27du945988omuv/569enTRy6XS6mpqSooKDjpvF577TXFxcV1ePtKS0t1zTXXqE+fPid8rX711Ve65pprFB0drZ49e+rWW2/Vvn37vjefIUOGKCwsTCkpKXr11VfbjD/yyCMKDAxs8/xOnTq1w/NH1yPAkCTNmTNHjY2Nbb5uuukm29OybtasWSotLdXatWu/N/bCCy8oOztbISEhFmZ2Zm666aY2z21FRcVxl/N4PD6b04ABA/T73/9eOTk5xx1/9tln9Z//+Z967733VF9fr4ceekiTJ0/WunXrJB0J9A033KCQkBCVl5erqqpKgYGBuuGGG3T0H3mrq6vTlClTtGHDBtXX1+u5557T3XffrcWLF3f59nXr1k2TJ0/+3i8NRzU0NGjChAlKT0/Xtm3b9NVXX6m8vFxZWVneZRYtWqS7775bL7/8shoaGvTSSy/prrvu0pIlS9qsa+TIkW2e3wULFnTptqGTGJz3xowZYx566KETjpeUlJgf//jHJiIiwkRGRpr09HTz9ddfm8LCQhMUFGQCAgJMjx49TI8ePcyqVavMN998YySZsrIyY4wxBQUFpl+/fua//uu/TEJCggkNDTVZWVmmoaHBzJo1y/Ts2dP06dPH5Ofnex9z+/bt5tprrzUxMTEmLCzMpKammqKiIu/44MGDjSQTHBxsevToYa6++mpjjDHNzc1m/vz55sILLzQul8ukp6ebDz74oM32PPXUUyY+Pt5ERESY2267zWRkZJisrKwTbv9VV11lbrnllja3/f3vfzcOh8OUlZWZ5cuXm5EjR5qePXuayMhIM3bsWLN+/XrvssuXLzeSjMfjMcYYk5WVZTIzM0/6HFRVVZmpU6eavn37ml69eplf/vKXpqamxjv+/PPPm/79+5uwsDATExNz0vkf7/GOkmTy8vLMyJEjTWhoqFmwYIFpamoyc+bMMUlJSSYyMtJcccUVZu3atd77tOf5PJmHH37YXH755d+7/bLLLjPz5s1rc9vll19uZsyYYYwx5ssvvzSSTHV1tXe8rKzMSDJr1qw54eNNnDjRzJ49+7hjq1atMt27dzcOh8P7mi4sLPQ+3tVXX22ioqJMv379TE5Ojtm7d+9pbaMkU1xc3Oa2pUuXmtDQUNPS0uK9rbi42DgcDuN2u40xxtx4441m5syZbe6XmZlpxo8f7/35RPsPZz+OgHFKd955p6666irV1tZq165deuWVVxQZGanMzEw9+OCDbX77Hj169HHXsWPHDm3dulWbNm3S559/riVLluhHP/qRJkyYoJqaGj3//PO66667VFlZKUlqaWnRrbfeqvLycu3evVt33323pk2bpo0bN0qS979/+ctf1NjYqL/+9a+SpEcffVRvvvmmFi9erD179ug3v/mNbrjhBpWXl0uS3nrrLT3xxBN6++23tWvXLl122WVatGjRKbe/qKhIu3fv9t6Wn5+vn/zkJ0pOTlZQUJDmz5+v6upqud1uJScna+LEiTp8+HC79vehQ4d01VVXqW/fvtq8ebO2bt0qp9OpadOmSZLKyso0Z84cvffee9q3b5/Ky8t16623tuuxJOnFF1/UH/7wBzU2NmrixIm6//77tXTpUhUXF2vnzp2aNGmSxo8fr6qqKu99zvT5bA9jjPdI9qjW1lbvEfDRsWOXaW1tlSTvMv+soaFBn3zyyQnfVhg9erTy8/PVt29f72s6MzNT+/bt0/jx4zV48GC53W59+umn+vrrr9scrbZ3+/55/sYYlZSUtFnmWMfug6PWr1+vXr16KTExUdOmTdM333zT7nnBh2yVH2ePMWPGmO7du5uIiIg2X5s3bzbGGHPllVea2267zWzZsuV79z3eb9/HOwLu3r27OXz4sHeZSZMmmQkTJrS5X3h4uFm8ePEJ5zl06FDz3HPPeX/WcY4qXC6XWbZsWZvbxo8fbx599FHv97m5uW3G09PTT3oE6fF4TL9+/czTTz9tjDGmtrbWBAcHn3Cuu3fvNpLMhg0bjDFnfgS8cOFC07dvX9Pa2uodr6qqMpJMZWWl2bp1qwkODjZvv/22qa+vP+G8j8rKyjJBQUFtntvHHnvMGHNkHx57pNrS0mJCQkK+t21Dhw71Ho121vN51ImO4B5//HETFxdnSkpKzOHDh01hYaEJCAgwycnJxpgjz8sPf/hDM336dLN3715TV1dnJk+ebBwOh3f7jnXo0CFz9dVXmyuvvNL7XBzP0SP8Y7311lsmOjq6zf3WrVv3vSPwEznea3XPnj0mJibGzJkzxxw4cMBUVVWZ0aNHG0neo+4//vGPJjw83KxcudJ4PB7zv//7vyYkJMQ4nU7vej7//HNTUVFhWltbTVVVlZk2bZrp37+/2bdv3ynnBbs4AoYk6V//9V+1d+/eNl8pKSmSjlwE4nA4NG7cOMXFxemee+5RY2PjGa0/OjpaQUFB3p979Oih2NjYNsuEhoZ6L0DZs2ePbr/9dl1wwQVyuVyKjIzUxo0bVVNTc8LH2LlzpxoaGpSRkaHIyEjv10cffaRt27ZJOnLRzgUXXNDmfv/88z9zOp26/fbb9eKLL8oYo9dee029evXSddddJ0nasGGDrr/+evXr108ul8u7vpPN9WTKysq0c+dO/eAHP/Buw5AhQ9S9e3e53W5dcMEFevvtt1VQUKCEhAQNHz78lO/53XjjjW2e24ceeui4219bW6umpiYNGDCgzf2Tk5Pldru9P5/p89kec+bM0W233aZf/OIX6t27t9577z1NnTpV0dHRko48L0fPgFx44YVKS0vT2LFj1aNHD+8yRx04cEA33HCDDh06pL/85S9yOp1nNJfKykolJia2uV9ycrIktdkvZyIyMlLLli3TunXrlJiYqDFjxnjPchyd/7Rp0/TEE0/ojjvuUK9evfTUU08pJyenzfZddNFFSkxMlMPhUL9+/fTqq69q27Zt+uijj9o1L/gOAcYpJSYm6uWXX9a3336rFStWqLi4WPPmzZMkBQR0zUvogQce0Ndff62VK1eqvr5ee/fu1ZAhQ9qcjnM4HG3uExkZqeDgYL3//vttYrN//3698MILkqS4uLjvXYB0oguSjpWTk6OtW7fqb3/7m1588UXl5OQoMDBQkpSRkaEBAwboiy++UENDg/f0n/mnU4dHhYeHa//+/W1uO/bK3T59+igxMfF7vxAdPHhQo0aNkiRNnDhRy5YtU21tre6//35lZmZq8+bNp9yO4zn2OYyOjlZwcLD3lP1R5eXlSkhIaNf628vpdOqRRx5RWVmZdu/eraKiIn355Ze66qqrvMsMGDBAixYt8p7+Hz16tPbv369x48Z5l9mzZ4/Gjx8vp9OppUuXKiws7KSPe7zXdHx8vNxud5s/JTu6jzqyXy6++GIVFxerpqZGW7ZsUWxsrEJDQzVixAjvMnfddZc2btyoPXv2qLi4WN9++22bffDPHA6HHA7HCV9/OHsQYJzSa6+9pqqqKhlj5HK55HQ6vUcCffr0kdvt1sGDBzv1Mevr6xUaGqqoqCh5PB49//zz3vd9j+rTp482bdrk/bl79+6aNWuW5syZo6+++krGGDU1NWnVqlXeOGVlZenVV1/V2rVr1dzcrD/84Q8qLS095XxiY2M1adIkzZw5UxUVFbr99tvbzNXlcikiIkK7d+/Wfffdd9J1XXrppVq+fLm+/vpreTwe/cd//Eeb9+wmT54sj8ej3/72t6qvr5d05Gj66J+Fbdq0SUuXLlVjY6OcTqciIiIkyfsLQUcEBATo1ltv1e9+9ztt3bpVhw8f1jPPPKMtW7YoMzOzw+s/lsfj0cGDB9Xc3CxjjA4ePNjmdbRz505t2bJFxhjV1dXpvvvuU21tre69917vMhs2bNDevXvV2tqq0tJS/epXv9Idd9zhPXuzY8cOjRkzRvHx8Vq0aJGCg4NPOa8+ffqotrZWdXV13tuuvfZaOZ1OPfjgg2pqatKOHTt07733ev/E6Xj+eZuO3d6j/vGPf2j//v1qbm7W6tWrdc899+iRRx7xPqf79u3T559/rtbWVjU0NOjpp5/WihUr9PDDD3vXUVRUpNraWu8+mzFjhnr37u39ZQ1nLwIMSdJTTz31vb8DfuqppyRJy5cv12WXXaawsDANGzZMI0eO1Ny5cyUd+fOWQYMGqW/fvoqMjNSaNWs6ZT6PPfaYmpqa1Lt3byUlJWnnzp26/PLL2ywzb948Pfnkk4qMjPSeDp4/f76mTp3qPQ2dlJSkefPmef+8JjMzU3PmzFFGRoaio6O1du1a/fznPz+tOd15553aunWrJk+erN69e3tvf/XVV/XOO+8oPDxcI0aM0DXXXHPS9WRmZuqXv/ylRo0apfj4eO3du7fNtoWHh+vjjz+W2+1WamqqXC6XRo0apVWrVkmSDh8+rMcff9x7yvu+++7TG2+88b3Txu01f/58TZgwQWPHjlVMTIwWLlyo4uJixcfHd8r6j7r99tsVEhKixx9/XB999JFCQkLa/EnX9u3bdd111yk8PFwpKSnavn27/v73vysqKsq7zJIlSzRo0CCFhYVpypQpuvHGG/X88897x1988UV9/vnnev/99/WDH/zA+9o+2XM0btw4TZw4UQMHDlRkZKTeeustuVwuFRcXq7S0VHFxcbrkkkuUnJys119//YTr+fbbb9ts089+9jOFhIToscce8y7zyiuvKCEhQS6XS7NmzdJDDz2k+++/3zve0NCg6dOnKyIiQnFxcfrwww+1evVq7y8YklRYWKgf/vCHCg0NVXp6ujwejz744AOFh4ef5jMBWxyG8xQAAPgcR8AAAFhAgAEAsIAAn6Py8vJsT+Gcxz72Dfazb7CffY/3gM9RcXFxbT65CJ2Pfewb7GffYD/7HkfAAABYQIABALCAAJ+jcnNzbU/hnMc+9g32s2+wn32P94ABALCAI2AAACwgwAAAWECAAQCwgAADAGABAQYAwAICDACABQQYAAALCDAAABa0O8BJSUkaNGiQ0tLSlJaWpj/96U+SpLKyMo0aNUoDBw7U8OHDtXHjRu99umIMAAC/ZNopMTHRrF+//nu3jx071hQUFBhjjHnnnXfMpZde2qVjAAD4o3Z/FGVSUpIWL16stLQ07201NTVKTk7W7t275XQ6ZYxRbGys1qxZI5fL1eljycnJnfV7CAAAPtWh94BvueUWpaam6rbbbtOuXbtUWVmp2NhYOZ1OSZLD4VBCQoLcbneXjAEA4K/aHeBVq1Zpw4YNWrdunaKjo5WVldWZ8wIAwCfy8vIUFxfn/crLy/PJ43bKv4ZUXV2tgQMHqry8nFPQAACchnYdAe/fv1979+71/rxgwQJdfPHFiomJUXp6ugoLCyVJCxcuVFxcnJKTk7tkDAAAf9WuI+CtW7dqypQpamlpkTFG/fv317PPPqukpCRt2rRJ2dnZqqurk8vlUkFBgVJTUyWpS8YAAPBHnXIKGgAAnBmn7QkAALqGx+ORx+Pp9PUGBQUpKCio09d7viHAAHCOeuedd7RgwYKTLnP48GGVlJRIktLS0tStW7dTrnfq1KmaNm1aZ0zxvMYpaAA4R53OEXBtba1mzZolScrPz1d0dPQp18sRcOfgCBgAzlGnE8rQ0FAFBgZ6vw8NDfXF1CD+NSQAAKwgwAAAWECAAQCwgAADAGABAQYAwAICDACABQQYAAALCDAAABYQYAAALCDAAABYQIABALCAAAMAYAEBBgDAAgIMAIAFBBgAAAscxhhjexIAcC6Z5XDZnsJpa1KrVuigJOlKBSvEj47L8k2D7Sl0iP/saQAAziEEGAAACwgwAAAWEGAAACwgwAAAWECAAQCwgAADAGABAQYAwAICDACABQQYAAALCDAAABYQYAAALCDAAABYQIABALCAAAMAYAEBBgDAAgIMAIAFTtsTAAB0jRYZtZ5imWYZtcp4v/d89/3JBEgKlKPjEzzPEWAAOEdtVbO2yHPK5QK+i+kaHTqt9SYrSCkK6tDcQIAB4JzVX04ldcH/5nnvsnMQYAA4RwXKoUDbk8AJ8YsMAAAWcAQMwOc8Ho88nlO/N3mmgoKCFBTEe5PwDwQYOAZh8I133nlHCxYsOOkyhw8fVklJiSQpLS1N3bp1O+V6p06dqmnTpnXGFIEu5zDGnPqac+A88dZbbxEGHzidX3Rqa2s1a9YsSVJ+fr6io6NPud6z5RedWQ6X7SmcF/JNg+0pdAhHwMAxMjIyNGnSpJMu094w4P+cTihDQ0MVGBjo/T40NNQXUwN8hgADxyAMAHyFq6ABALCAAAMAYAEBBgDAAgIMAIAFBBgAAAsIMAAAFhBgAAAsIMAAAFhAgAEAsIAAAwBgAQEGAMACAgwAgAUEGAAACwgwAAAWEGAAACwgwAAAWECAAQCwgAADAGABAQYAwAICDACABQQYAAALCDAAABYQYAAALCDAAABY4LQ9AeCoxutH2J7CaWk87FFzydYj32f+VMHdgizP6PSF/WWt7SkA+A5HwAAAWNDhABcUFMjhcGjx4sWSpJqaGl199dVKSUnRRRddpFWrVnmX7YoxAMD5bcKECRo6dKjS0tI0evRorV+/XpK0bNkyXXrppRo6dKhGjBih0tJS732uvPJKXXDBBUpLS1NaWpqeeeYZ75ivetShU9AVFRV6+eWXNWLE/506fOCBBzRixAgtW7ZMn376qX7+85/rm2++UVBQUJeMAQDOb0VFRYqMjJQkLVq0SNnZ2VqxYoUyMzO1atUqDRkyRKtXr1ZmZqa++OIL7/2eeeYZTZo06Xvr81WP2n0E3NraqhkzZuj5559X9+7dvbcXFRVp1qxZkqThw4erb9++WrlyZZeNAQDOb0fjK0n19fVyOBwqLy9XVFSUhgwZIkkaPXq03G631q1bd8r1+apH7Q5wXl6eLr/8cl1yySXe2+rq6uTxeNSnTx/vbUlJSXK73V0yBgCAJN1yyy2Kj4/Xb3/7W7355ptKSUlRXV2dPvroI0nSkiVLtG/fPlVUVHjv88ADDyg1NVU33XSTtm49cmGlL3vUrlPQX3zxhRYuXMh7sQCAs8Ibb7whSXr99dc1d+5cLV26VO+++65+/etfq7GxUSNHjtTgwYPldB7J3ptvvqn4+HgZYzRlyhQNGjRIvXv3VktLi1paWnwy53YdAa9evVoVFRVKSUlRUlKS1q5dq5ycHBUVFcnpdGrHjh3eZSsqKpSQkKCoqKhOHwMA4FhZWVlavny56urqNHbsWK1cuVL/+Mc/9PTTT2v79u0aPHiwJCk+Pl6S5HA49Oc//1mBgYEqLS1VdXW1unfv7pMetSvAd9xxh6qrq1VRUaGKigqNGDFCL730ku644w5lZGQoPz9fkvTpp59q27ZtGjNmjCR1yRgA4Py1d+9ebd++3fvz4sWLFRUVpZ49e6q6utp7+6OPPqpx48YpOTlZzc3N2rlzp3ds4cKF6t27t6KioiT5rked/kEcTz75pG6++WalpKSoW7duKiws9F4d1hVjAE5f853X2p7CaWtuOizz+YYj398/Vc0h3SzPCGej+vp6ZWRkqKmpSQEBAerVq5fef/99ORwO/e53v9Pq1avV3NyskSNH6pVXXpEkHTp0SNdee60OHTqkgIAARUdHa8mSJd51+qpHDmOM6fguADrOXz4Jq/awR3d890lYL6T1V7QffRJWcHyU7Smcttqmw5qx/EiA/zB2qKL9KMB3vbDa9hTOC/mmwfYUOoRPwgIAwAI+C9qPeDweeTyeTl9vUFAQp/QBwMfO7VPQ3/0B9rlib329GurrT7qMMUZNBw9KkkKCg+VwOE65XldEhCIjIjpljh3R4v7G9hROS4sxqj54WJIUG9xNgaexj88WAUGBtqdw2pqN0fb9R17LfXsEy+lH+7l6zwHbUzgv9B18YeesaOPGzlnPGeII2I9EuFxyuVwnXaa5udl75V9sbKz3b95Oxn/+twYA545z+wj4PFRbW6tf/epXko78QxnR0dGWZ3T6uAir63ERlm9wEZZvcBEWAAA4YwQYAAALCDAAABYQYAAALCDAAABYQIABALCAAAMAYAEBBgDAAgIMAIAFfBQlcAxPa6s8p/hwuKaWVrV8t0xTS6sOtLSccr1BDoeCAvh9F8D/IcDAMRZV79Y72+pOudzRf4Ah9/OK01pvRr8o3djPfz4WFEDXI8DAMX4e21PX9flBp683yI/+JR8AvkGAgWMEBQTIf/5pBQD+jDelAACwgAADAGABAQYAwAICDACABQQYAAALCDAAABYQYAAALCDAAABYQIABALCAAAMAYAEBBgDAAgIMAIAFBBgAAAsIMAAAFhBgAAAsIMAAAFhAgAEAsMBpewIAzj+ellZ5Ws1JlznQ3KKW75Y50NyiA56WU643KMChoECOK+AfCDAAn3u3vFp/2lJ9yuUCAxySpNmrN57Wem9KjtXUgf06NDfAVwgwAJ/7xYBYTbygT6evN+i7YAP+gAAD8LmgwAAFBdqeBWAXb5YAAGABAQYAwAICDACABQQYAAALCDAAABYQYAAALCDAAABYQIABALCAAAMAYAEBBgDAAgIMAIAFBBgAAAsIMAAAFhBgAAAs4J8jPA0hk1+xPYXTZg7tk2edW5IUl1UoR/dwyzM6fbtsTwAAfIgjYAAALCDAAABYQIABALCAAAMAYAEBBgDAAgIMAIAFBBgAAAsIMAAAFhBgAAAsIMAAAFhAgAEAsIAAAwBgAQEGAMACAgwAgAUEGAAACwgwAAAWEGAAACwgwAAAWNDuAE+YMEFDhw5VWlqaRo8erfXr10uSysrKNGrUKA0cOFDDhw/Xxo0bvffpijEAAPxRuwNcVFSkDRs2qKSkRLm5ucrOzpYkzZw5Uzk5Odq8ebPmzp3rvb2rxgAA8EftDnBkZKT3+/r6ejkcDtXU1Oizzz7T9OnTJUlTpkxRZWWltmzZ0iVjAAD4K2dH7nzLLbdo+fLlkqSlS5eqsrJSsbGxcjqPrNbhcCghIUFut1sRERGdPpacnNyR6QMAYE2HLsJ64403VFlZqccee0xz587trDkBAOAzeXl5iouL837l5eX55HE7dAR8VFZWlmbNmqW4uDhVV1erublZTqdTxhi53W4lJCTI5XJ1+hgAAB2Vm5ur3Nxcnz9uu46A9+7dq+3bt3t/Xrx4saKiohQTE6P09HQVFhZKkhYuXKi4uDglJyd3yRgAAP7KYYwxZ3qnb7/9VhkZGWpqalJAQIB69eql+fPnKy0tTZs2bVJ2drbq6urkcrlUUFCg1NRUSeqSMV8ImfyKzx6ro8yhffKsK5AkBaX/So7u4ZZndPp2eV62PYVzXnB8lO0pnBfuemG17SmcF/JNg+0pdEi7Any+IcC+QYC7HgH2DQLsG/4eYD4JCwAACwgwAAAWEGAAACwgwAAAWECAAQCwgAADAGABAQYAwAICDACABQQYAAALCDAAABYQYAAALCDAAABYQIABALCAAAMAYAEBBgDAAgIMAIAFBBgAAAsIMAAAFhBgAAAsIMAAAFhAgAEAsIAAAwBgAQEGAMACp+0J4PSZ1mapteXky7QcljGt3u/VfOjUKw4IlCOAlwIA+BL/1/Ujrdv+oZaqT065nMNx5MRGc+kfT2u9gXE/UmD8jzo0NwDAmSHAfiSg3yUKiE3rghUHdv46AQAnRYD9iCPAKXGqGADOCVyEBQCABQQYAAALCDAAABYQYAAALCDAAABYQIABALCAAAMAYAEBBgDAAgIMAIAFBBgAAAsIMAAAFhBgAAAsIMAAAFhAgAEAsIAAAwBgAQEGAMACAgwAgAUEGAAACwgwAAAWEGAAACwgwAAAWECAAQCwgAADAGABAQYAwAICDACABQQYAAALCDAAABYQYAAALCDAAABYQIABALCAAAMAYAEBBgDAAgIMAIAFBBgAAAsIMAAAFhBgAAAsIMAAAFhAgAEAsIAAAwBgAQEGAMACAgwAgAUEGAAACwgwAAAWEGAAACwgwAAAWNCuAB88eFCTJk3SwIEDNWzYMP3kJz/Rli1bJEk1NTW6+uqrlZKSoosuukirVq3y3q8rxgAA8EftPgLOycnRpk2bVFpaqokTJ2rGjBmSpAceeEAjRoxQWVmZCgoKNG3aNHk8ni4bAwDAH7UrwMHBwfrZz34mh8MhSRoxYoQqKiokSUVFRZo1a5Ykafjw4erbt69WrlzZZWMAAPijTnkP+Nlnn9XEiRNVV1cnj8ejPn36eMeSkpLkdru7ZAwAAH/V4QA/8cQT2rJli+bNm9cZ8wEAwKfy8vIUFxfn/crLy/PJ4zo7cuf58+frz3/+sz744AOFhoYqNDRUTqdTO3bs8B6xVlRUKCEhQVFRUZ0+BgBAR+Xm5io3N9fnj9vuI+C8vDwtWLBAxcXFioyM9N6ekZGh/Px8SdKnn36qbdu2acyYMV02BgCAP2rXEXBVVZXuu+8+9e/fX2PHjpUkde/eXZ988omefPJJ3XzzzUpJSVG3bt1UWFiooKAgSeqSMQAA/JHDGGNsT+JsFzL5FdtTOC/s8rxsewrnvOD4KNtTOC/c9cJq21M4L+SbBttT6BA+CQsAAAsIMAAAFhBgAAAsIMAAAFhAgAEAsIAAAwBgAQEGAMACAgwAgAUEGAAACwgwAAAWEGAAACwgwAAAWECAAQCwgAADAGABAQYAwAICDACABQQYAAALCDAAABYQYAAALCDAAABYQIABALCAAAMAYAEBBgDAAgIMAIAFBBgAAAsIMAAAFhBgAAAsIMAAAFhAgAEAsIAAAwBgAQEGAMACAgwAgAUEGAAACwgwAAAWEGAAACwgwAAAWECAAQCwgAADAGABAQYAwAICDACABQQYAAALCDAAABYQYAAALCDAAABYQIABALCAAAMAYAEBBgDAAgIMAIAFBBgAAAsIMAAAFhBgAAAsIMAAAFhAgAEAsIAAAwBgAQEGAMACAgwAgAUEGAAACwgwAAAWEGAAACwgwAAAWECAAQCwgAADAGABAQYAwAICDACABQQYAAALCDAAABYQYAAALCDAAABYQIABALCAAAMAYAEBBgDAAgIMAIAFBBgAAAvaFeDZs2crKSlJDodDJSUl3tvLyso0atQoDRw4UMOHD9fGjRu7dAwAAH/VrgD/4he/0Jo1a5SYmNjm9pkzZyonJ0ebN2/W3LlzlZ2d3aVjAAD4K4cxxrT3zklJSVq8eLHS0tJUU1Oj5ORk7d69W06nU8YYxcbGas2aNXK5XJ0+lpyc3Jn74aRCJr/is8c6n+3yvGx7Cue84Pgo21M4L9z1wmrbUzgv5JsG21PoEGdnraiyslKxsbFyOo+s0uFwKCEhQW63WxEREZ0+5ssAAwDQ2bgICwBwXsvLy1NcXJz3Ky8vzyeP22lHwPHx8aqurlZzc7P3dLHb7VZCQoJcLlenjwEA0Blyc3OVm5vr88fttCPgmJgYpaenq7CwUJK0cOFCxcXFKTk5uUvGAADwZ+26CGvmzJn67//+b+3YsUNRUVEKDw/Xli1btGnTJmVnZ6uurk4ul0sFBQVKTU2VpC4Z8xUuwvINLsLqelyE5RtchOUb/n4RVoeugj5fEGDfIMBdjwD7BgH2DX8PMBdhAQBgAQEGAMACAgwAgAUEGAAACwgwAAAWEGAAACwgwAAAWECAAQCwgAADAGABAQYAwAICDACABQQYAAALCDAAABYQYAAALCDAAABYQIABALCAAAMAYAEBBgDAAgIMAIAFBBgAAAsIMAAAFhBgAAAsIMAAAFhAgAEAsIAAAwBgAQEGAMACAgwAgAUEGAAACwgwAAAWEGAAACwgwAAAWECAAQCwgAADAGABAQYAwAICDACABQQYAAALCDAAABYQYAAALCDAAABYQIABALCAAAMAYAEBBgDAAgIMAIAFBBgAAAsIMAAAFhBgAAAsIMAAAFhAgAEAsIAAAwBgAQEGAMACAgwAgAUEGAAACwgwAAAWEGAAACwgwAAAWECAAQCwgAADAGABAQYAwAICDACABQQYAAALCDAAABYQYAAALCDAAABYQIABALCAAAMAYAEBBgDAAgIMAIAFBBgAAAsIMAAAFhBgAAAsIMAAAFhAgAEAsMBvAlxWVqZRo0Zp4MCBGj58uDZu3Gh7SgAAtJvfBHjmzJnKycnR5s2bNXfuXGVnZ9ueEgAA7eYXAa6pqdFnn32m6dOnS5KmTJmiyspKbdmyxfLMAABoH78IcGVlpWJjY+V0OiVJDodDCQkJcrvdlmcGAED7OG1PwB80/fk221M4Y3l5ecrNzbU9jTPkX/vZP/ex//HH/Zz//2zP4Mz5437uLHl5ecrLy/P+nJub65N94TDGmC5/lA6qqalRcnKydu/eLafTKWOMYmNjtWbNGiUnJ9ue3lkpLi5OVVVVtqdxTmMf+wb72TfYz77nF6egY2JilJ6ersLCQknSwoULFRcXR3wBAH7Lb05Bv/jii8rOztYTTzwhl8ulgoIC21MCAKDd/CbAgwYN0scff2x7Gn7jfH0vx5fYx77BfvYN9rPv+cV7wAAAnGv84j1gAADONQQYAAALCLAfmD17tpKSkuRwOFRSUuK9fdmyZbr00ks1dOhQjRgxQqWlpd6xTz/9VJdffrmGDRumtLQ0ffjhh96xBx98UBdeeKGGDRumSy+9VP/zP//jy805a3X2fn7ooYeUmpqqtLQ0paWl6e233/bl5pyVOnsfH/XVV18pNDRU99xzjw+24uzX2fs5Oztb/fr1876W77//fl9uzrnL4Ky3cuVKU1lZaRITE8369euNMcbs3r3b9OzZ03zxxRfGGGNWrVplhgwZYowxprW11fTr188UFxcbY4zZtGmTiY+PNwcOHDDGGLN06VLv9yUlJcblcpnGxkYfb9XZp7P38549e7zrrqqqMuHh4WbXrl2+26CzUGfvY2OMOXz4sLniiivMtGnTzN133+3T7TlbdfZ+zsrKMs8884zPt+NcxxGwH/jxj3+suLi4NreVl5crKipKQ4YMkSSNHj1abrdb69atU11dnXbt2qXx48dLkgYOHKjIyEj99a9/lSRdc801CgkJkSSlpqbKGKNdu3b5cIvOTp29nyMjI73raWxslDFGra2tvtmYs1Rn72NJ+v3vf6+MjAylpKT4bkPOcl2xn9H5CLCfSklJUV1dnT766CNJ0pIlS7Rv3z5VVFQoOjpasbGxKioqknTk1NKmTZtUUVHxvfUUFBSof//+SkxM9OX0/UZH9/Nzzz2nQYMGKT09XS+99JJiYmJsbMZZrSP7+JNPPtHHH3+sf/mXf7E1fb/R0dfys88+q6FDh+q6665rc1ob7ec3fweMtiIiIvTuu+/q17/+tRobGzVy5EgNHjzY+w9WvPfee5o7d67mzZunIUOG6IorrvCOHfW3v/1N//Zv/6bi4mI5HA4bm3HW6+h+nj17tmbPnq3S0lJNnz5dEyZMUFRUlK3NOSu1dx8fOHBAd955p959911ev6ehI6/lxx9/XLGxsQoICNCiRYt0zTXXqKysTGFhYTY3yf/ZPgeO03fs+zn/7ODBgyYyMtKUlZUdd/zCCy80H3zwgffnFStWmPj4eFNSUtIVU/Vrnbmfj/XTn/7UvPvuu501Tb/WGft4w4YNJjo62iQmJprExEQTERFhwsPDzS233NKFM/cvXfVaHjhwoPnss886a5rnLU5B+7Hq6mrv948++qjGjRvn/XzsY8defvll9ejRQ+PGjZMkrVq1SjfffLPee+89DRs2zLeT9kPt3c9ffvmld6y8vFzr16/X4MGDfTRr/9KefZyamqpdu3apoqJCFRUVuueee3Trrbfq9ddf9/n8/UV7X8vH/iMNa9euVV1dHZ/F3xls/waAU8vJyTH9+vUzgYGBJiYmxgwYMMAYY8yMGTPMoEGDzIABA8z06dPbXHX7yCOPmJSUFJOcnGyuv/5643a7vWPJyckmJibGDBs2zPu1YcMGX2/WWaez9/O1115rBg8ebIYNG2YuueQSU1RU5OtNOut09j4+1sMPP8xV0N/p7P181VVXmYsuusgMGzbMjBgxwnz44Ye+3qRzEh9FCQCABZyCBgDAAgIMAIAFBBgAAAsIMAAAFhBgAAAsIMAAAFhAgAEAsIAAAwBgAQEGAMACAgwAgAUEGAAACwgwAAAWEGAAACz4/+nOdv6iVYVyAAAAAElFTkSuQmCC' width=480.0/>\n",
       "            </div>\n",
       "        "
      ],
      "text/plain": [
       "Canvas(toolbar=Toolbar(toolitems=[('Home', 'Reset original view', 'home', 'home'), ('Back', 'Back to previous …"
      ]
     },
     "metadata": {},
     "output_type": "display_data"
    }
   ],
   "source": [
    "import matplotlib.pyplot as plt\n",
    "\n",
    "%matplotlib widget\n",
    "\n",
    "plt.figure(num=None, figsize=(6, 6), dpi=80, facecolor='w', edgecolor='k')\n",
    "\n",
    "plt.bar(range(len(df.columns)), height = df.values.mean(axis = 0), \n",
    "        yerr=ye1, error_kw={'capsize': 10, 'elinewidth': 2, 'alpha':0.7}, color = color, width = 1)\n",
    "\n",
    "plt.axhline(y=Y, color = 'red', label = 'Y')\n",
    "\n",
    "plt.text(3.5, 39500, \"39500\")\n",
    "\n",
    "plt.xticks(range(len(df.columns)), df.columns)\n",
    "\n",
    "plt.tick_params(bottom=False, right=False, left = False, top = False)\n",
    "\n",
    "plt.title('Estimated Values From 1992 to 1995')\n",
    "\n",
    "# remove all the ticks (both axes), and tick labels on the Y axis\n",
    "plt.tick_params(top='off', bottom='off',  right='off', labelbottom='on')\n",
    "\n",
    "# remove the frame of the chart\n",
    "for spine in plt.gca().spines.values():\n",
    "    spine.set_visible(False)\n",
    "    \n",
    "def recolorBars(self, event):      \n",
    "    y = event.ydata\n",
    "    for i, rect in enumerate(self.rects):\n",
    "        t, p, _ = sms.DescrStatsW(self.df[self.df.columns[i]]).ttest_mean(y)\n",
    "        rect.set_color(self.cpick.to_rgba((1 - p) * t / abs(t)))\n",
    "        cpick = cm.ScalarMappable(cmap=cmap)\n",
    "        cpick.set_array(np.linspace(-1, 1))\n",
    "\n",
    "plt.tight_layout()"
   ]
  },
  {
   "cell_type": "code",
   "execution_count": null,
   "metadata": {},
   "outputs": [],
   "source": []
  }
 ],
 "metadata": {
  "kernelspec": {
   "display_name": "Python 3.10.6 64-bit",
   "language": "python",
   "name": "python3"
  },
  "language_info": {
   "codemirror_mode": {
    "name": "ipython",
    "version": 3
   },
   "file_extension": ".py",
   "mimetype": "text/x-python",
   "name": "python",
   "nbconvert_exporter": "python",
   "pygments_lexer": "ipython3",
   "version": "3.10.6"
  },
  "orig_nbformat": 4,
  "vscode": {
   "interpreter": {
    "hash": "d03e573af703c4891463f60b705e808eb96306e50f2ba6f732dc4ef07e068dbc"
   }
  }
 },
 "nbformat": 4,
 "nbformat_minor": 2
}
