{
 "cells": [
  {
   "cell_type": "markdown",
   "metadata": {},
   "source": [
    "---\n",
    "\n",
    "_You are currently looking at **version 1.3** of this notebook. To download notebooks and datafiles, as well as get help on Jupyter notebooks in the Coursera platform, visit the [Jupyter Notebook FAQ](https://www.coursera.org/learn/python-machine-learning/resources/bANLa) course resource._\n",
    "\n",
    "---"
   ]
  },
  {
   "cell_type": "markdown",
   "metadata": {},
   "source": [
    "# Assignment 1 - Introduction to Machine Learning"
   ]
  },
  {
   "cell_type": "markdown",
   "metadata": {},
   "source": [
    "For this assignment, you will be using the Breast Cancer Wisconsin (Diagnostic) Database to create a classifier that can help diagnose patients. First, read through the description of the dataset (below)."
   ]
  },
  {
   "cell_type": "code",
   "execution_count": 1,
   "metadata": {
    "collapsed": true
   },
   "outputs": [
    {
     "name": "stdout",
     "output_type": "stream",
     "text": [
      ".. _breast_cancer_dataset:\n",
      "\n",
      "Breast cancer wisconsin (diagnostic) dataset\n",
      "--------------------------------------------\n",
      "\n",
      "**Data Set Characteristics:**\n",
      "\n",
      "    :Number of Instances: 569\n",
      "\n",
      "    :Number of Attributes: 30 numeric, predictive attributes and the class\n",
      "\n",
      "    :Attribute Information:\n",
      "        - radius (mean of distances from center to points on the perimeter)\n",
      "        - texture (standard deviation of gray-scale values)\n",
      "        - perimeter\n",
      "        - area\n",
      "        - smoothness (local variation in radius lengths)\n",
      "        - compactness (perimeter^2 / area - 1.0)\n",
      "        - concavity (severity of concave portions of the contour)\n",
      "        - concave points (number of concave portions of the contour)\n",
      "        - symmetry\n",
      "        - fractal dimension (\"coastline approximation\" - 1)\n",
      "\n",
      "        The mean, standard error, and \"worst\" or largest (mean of the three\n",
      "        worst/largest values) of these features were computed for each image,\n",
      "        resulting in 30 features.  For instance, field 0 is Mean Radius, field\n",
      "        10 is Radius SE, field 20 is Worst Radius.\n",
      "\n",
      "        - class:\n",
      "                - WDBC-Malignant\n",
      "                - WDBC-Benign\n",
      "\n",
      "    :Summary Statistics:\n",
      "\n",
      "    ===================================== ====== ======\n",
      "                                           Min    Max\n",
      "    ===================================== ====== ======\n",
      "    radius (mean):                        6.981  28.11\n",
      "    texture (mean):                       9.71   39.28\n",
      "    perimeter (mean):                     43.79  188.5\n",
      "    area (mean):                          143.5  2501.0\n",
      "    smoothness (mean):                    0.053  0.163\n",
      "    compactness (mean):                   0.019  0.345\n",
      "    concavity (mean):                     0.0    0.427\n",
      "    concave points (mean):                0.0    0.201\n",
      "    symmetry (mean):                      0.106  0.304\n",
      "    fractal dimension (mean):             0.05   0.097\n",
      "    radius (standard error):              0.112  2.873\n",
      "    texture (standard error):             0.36   4.885\n",
      "    perimeter (standard error):           0.757  21.98\n",
      "    area (standard error):                6.802  542.2\n",
      "    smoothness (standard error):          0.002  0.031\n",
      "    compactness (standard error):         0.002  0.135\n",
      "    concavity (standard error):           0.0    0.396\n",
      "    concave points (standard error):      0.0    0.053\n",
      "    symmetry (standard error):            0.008  0.079\n",
      "    fractal dimension (standard error):   0.001  0.03\n",
      "    radius (worst):                       7.93   36.04\n",
      "    texture (worst):                      12.02  49.54\n",
      "    perimeter (worst):                    50.41  251.2\n",
      "    area (worst):                         185.2  4254.0\n",
      "    smoothness (worst):                   0.071  0.223\n",
      "    compactness (worst):                  0.027  1.058\n",
      "    concavity (worst):                    0.0    1.252\n",
      "    concave points (worst):               0.0    0.291\n",
      "    symmetry (worst):                     0.156  0.664\n",
      "    fractal dimension (worst):            0.055  0.208\n",
      "    ===================================== ====== ======\n",
      "\n",
      "    :Missing Attribute Values: None\n",
      "\n",
      "    :Class Distribution: 212 - Malignant, 357 - Benign\n",
      "\n",
      "    :Creator:  Dr. William H. Wolberg, W. Nick Street, Olvi L. Mangasarian\n",
      "\n",
      "    :Donor: Nick Street\n",
      "\n",
      "    :Date: November, 1995\n",
      "\n",
      "This is a copy of UCI ML Breast Cancer Wisconsin (Diagnostic) datasets.\n",
      "https://goo.gl/U2Uwz2\n",
      "\n",
      "Features are computed from a digitized image of a fine needle\n",
      "aspirate (FNA) of a breast mass.  They describe\n",
      "characteristics of the cell nuclei present in the image.\n",
      "\n",
      "Separating plane described above was obtained using\n",
      "Multisurface Method-Tree (MSM-T) [K. P. Bennett, \"Decision Tree\n",
      "Construction Via Linear Programming.\" Proceedings of the 4th\n",
      "Midwest Artificial Intelligence and Cognitive Science Society,\n",
      "pp. 97-101, 1992], a classification method which uses linear\n",
      "programming to construct a decision tree.  Relevant features\n",
      "were selected using an exhaustive search in the space of 1-4\n",
      "features and 1-3 separating planes.\n",
      "\n",
      "The actual linear program used to obtain the separating plane\n",
      "in the 3-dimensional space is that described in:\n",
      "[K. P. Bennett and O. L. Mangasarian: \"Robust Linear\n",
      "Programming Discrimination of Two Linearly Inseparable Sets\",\n",
      "Optimization Methods and Software 1, 1992, 23-34].\n",
      "\n",
      "This database is also available through the UW CS ftp server:\n",
      "\n",
      "ftp ftp.cs.wisc.edu\n",
      "cd math-prog/cpo-dataset/machine-learn/WDBC/\n",
      "\n",
      ".. topic:: References\n",
      "\n",
      "   - W.N. Street, W.H. Wolberg and O.L. Mangasarian. Nuclear feature extraction \n",
      "     for breast tumor diagnosis. IS&T/SPIE 1993 International Symposium on \n",
      "     Electronic Imaging: Science and Technology, volume 1905, pages 861-870,\n",
      "     San Jose, CA, 1993.\n",
      "   - O.L. Mangasarian, W.N. Street and W.H. Wolberg. Breast cancer diagnosis and \n",
      "     prognosis via linear programming. Operations Research, 43(4), pages 570-577, \n",
      "     July-August 1995.\n",
      "   - W.H. Wolberg, W.N. Street, and O.L. Mangasarian. Machine learning techniques\n",
      "     to diagnose breast cancer from fine-needle aspirates. Cancer Letters 77 (1994) \n",
      "     163-171.\n"
     ]
    }
   ],
   "source": [
    "import numpy as np\n",
    "import pandas as pd\n",
    "from sklearn.datasets import load_breast_cancer\n",
    "\n",
    "cancer = load_breast_cancer()\n",
    "\n",
    "print(cancer.DESCR) # Print the data set description"
   ]
  },
  {
   "cell_type": "markdown",
   "metadata": {},
   "source": [
    "The object returned by `load_breast_cancer()` is a scikit-learn Bunch object, which is similar to a dictionary."
   ]
  },
  {
   "cell_type": "code",
   "execution_count": 2,
   "metadata": {
    "collapsed": false
   },
   "outputs": [
    {
     "data": {
      "text/plain": [
       "dict_keys(['data', 'target', 'frame', 'target_names', 'DESCR', 'feature_names', 'filename', 'data_module'])"
      ]
     },
     "execution_count": 2,
     "metadata": {},
     "output_type": "execute_result"
    }
   ],
   "source": [
    "cancer.keys()"
   ]
  },
  {
   "cell_type": "markdown",
   "metadata": {},
   "source": [
    "### Question 0 (Example)\n",
    "\n",
    "How many features does the breast cancer dataset have?\n",
    "\n",
    "*This function should return an integer.*"
   ]
  },
  {
   "cell_type": "code",
   "execution_count": 3,
   "metadata": {
    "collapsed": false
   },
   "outputs": [
    {
     "data": {
      "text/plain": [
       "30"
      ]
     },
     "execution_count": 3,
     "metadata": {},
     "output_type": "execute_result"
    }
   ],
   "source": [
    "# You should write your whole answer within the function provided. The autograder will call\n",
    "# this function and compare the return value against the correct solution value\n",
    "def answer_zero():\n",
    "    # This function returns the number of features of the breast cancer dataset, which is an integer. \n",
    "    # The assignment question description will tell you the general format the autograder is expecting\n",
    "    return len(cancer['feature_names'])\n",
    "\n",
    "# You can examine what your function returns by calling it in the cell. If you have questions\n",
    "# about the assignment formats, check out the discussion forums for any FAQs\n",
    "answer_zero() "
   ]
  },
  {
   "cell_type": "markdown",
   "metadata": {},
   "source": [
    "### Question 1\n",
    "\n",
    "Scikit-learn works with lists, numpy arrays, scipy-sparse matrices, and pandas DataFrames, so converting the dataset to a DataFrame is not necessary for training this model. Using a DataFrame does however help make many things easier such as munging data, so let's practice creating a classifier with a pandas DataFrame. \n",
    "\n",
    "\n",
    "\n",
    "Convert the sklearn.dataset `cancer` to a DataFrame. \n",
    "\n",
    "*This function should return a `(569, 31)` DataFrame with * \n",
    "\n",
    "*columns = *\n",
    "\n",
    "    ['mean radius', 'mean texture', 'mean perimeter', 'mean area',\n",
    "    'mean smoothness', 'mean compactness', 'mean concavity',\n",
    "    'mean concave points', 'mean symmetry', 'mean fractal dimension',\n",
    "    'radius error', 'texture error', 'perimeter error', 'area error',\n",
    "    'smoothness error', 'compactness error', 'concavity error',\n",
    "    'concave points error', 'symmetry error', 'fractal dimension error',\n",
    "    'worst radius', 'worst texture', 'worst perimeter', 'worst area',\n",
    "    'worst smoothness', 'worst compactness', 'worst concavity',\n",
    "    'worst concave points', 'worst symmetry', 'worst fractal dimension',\n",
    "    'target']\n",
    "\n",
    "*and index = *\n",
    "\n",
    "    RangeIndex(start=0, stop=569, step=1)"
   ]
  },
  {
   "cell_type": "code",
   "execution_count": 4,
   "metadata": {
    "collapsed": true
   },
   "outputs": [
    {
     "data": {
      "text/html": [
       "<div>\n",
       "<style scoped>\n",
       "    .dataframe tbody tr th:only-of-type {\n",
       "        vertical-align: middle;\n",
       "    }\n",
       "\n",
       "    .dataframe tbody tr th {\n",
       "        vertical-align: top;\n",
       "    }\n",
       "\n",
       "    .dataframe thead th {\n",
       "        text-align: right;\n",
       "    }\n",
       "</style>\n",
       "<table border=\"1\" class=\"dataframe\">\n",
       "  <thead>\n",
       "    <tr style=\"text-align: right;\">\n",
       "      <th></th>\n",
       "      <th>mean radius</th>\n",
       "      <th>mean texture</th>\n",
       "      <th>mean perimeter</th>\n",
       "      <th>mean area</th>\n",
       "      <th>mean smoothness</th>\n",
       "      <th>mean compactness</th>\n",
       "      <th>mean concavity</th>\n",
       "      <th>mean concave points</th>\n",
       "      <th>mean symmetry</th>\n",
       "      <th>mean fractal dimension</th>\n",
       "      <th>...</th>\n",
       "      <th>worst texture</th>\n",
       "      <th>worst perimeter</th>\n",
       "      <th>worst area</th>\n",
       "      <th>worst smoothness</th>\n",
       "      <th>worst compactness</th>\n",
       "      <th>worst concavity</th>\n",
       "      <th>worst concave points</th>\n",
       "      <th>worst symmetry</th>\n",
       "      <th>worst fractal dimension</th>\n",
       "      <th>target</th>\n",
       "    </tr>\n",
       "  </thead>\n",
       "  <tbody>\n",
       "    <tr>\n",
       "      <th>0</th>\n",
       "      <td>17.99</td>\n",
       "      <td>10.38</td>\n",
       "      <td>122.80</td>\n",
       "      <td>1001.0</td>\n",
       "      <td>0.11840</td>\n",
       "      <td>0.27760</td>\n",
       "      <td>0.30010</td>\n",
       "      <td>0.14710</td>\n",
       "      <td>0.2419</td>\n",
       "      <td>0.07871</td>\n",
       "      <td>...</td>\n",
       "      <td>17.33</td>\n",
       "      <td>184.60</td>\n",
       "      <td>2019.0</td>\n",
       "      <td>0.16220</td>\n",
       "      <td>0.66560</td>\n",
       "      <td>0.7119</td>\n",
       "      <td>0.2654</td>\n",
       "      <td>0.4601</td>\n",
       "      <td>0.11890</td>\n",
       "      <td>0</td>\n",
       "    </tr>\n",
       "    <tr>\n",
       "      <th>1</th>\n",
       "      <td>20.57</td>\n",
       "      <td>17.77</td>\n",
       "      <td>132.90</td>\n",
       "      <td>1326.0</td>\n",
       "      <td>0.08474</td>\n",
       "      <td>0.07864</td>\n",
       "      <td>0.08690</td>\n",
       "      <td>0.07017</td>\n",
       "      <td>0.1812</td>\n",
       "      <td>0.05667</td>\n",
       "      <td>...</td>\n",
       "      <td>23.41</td>\n",
       "      <td>158.80</td>\n",
       "      <td>1956.0</td>\n",
       "      <td>0.12380</td>\n",
       "      <td>0.18660</td>\n",
       "      <td>0.2416</td>\n",
       "      <td>0.1860</td>\n",
       "      <td>0.2750</td>\n",
       "      <td>0.08902</td>\n",
       "      <td>0</td>\n",
       "    </tr>\n",
       "    <tr>\n",
       "      <th>2</th>\n",
       "      <td>19.69</td>\n",
       "      <td>21.25</td>\n",
       "      <td>130.00</td>\n",
       "      <td>1203.0</td>\n",
       "      <td>0.10960</td>\n",
       "      <td>0.15990</td>\n",
       "      <td>0.19740</td>\n",
       "      <td>0.12790</td>\n",
       "      <td>0.2069</td>\n",
       "      <td>0.05999</td>\n",
       "      <td>...</td>\n",
       "      <td>25.53</td>\n",
       "      <td>152.50</td>\n",
       "      <td>1709.0</td>\n",
       "      <td>0.14440</td>\n",
       "      <td>0.42450</td>\n",
       "      <td>0.4504</td>\n",
       "      <td>0.2430</td>\n",
       "      <td>0.3613</td>\n",
       "      <td>0.08758</td>\n",
       "      <td>0</td>\n",
       "    </tr>\n",
       "    <tr>\n",
       "      <th>3</th>\n",
       "      <td>11.42</td>\n",
       "      <td>20.38</td>\n",
       "      <td>77.58</td>\n",
       "      <td>386.1</td>\n",
       "      <td>0.14250</td>\n",
       "      <td>0.28390</td>\n",
       "      <td>0.24140</td>\n",
       "      <td>0.10520</td>\n",
       "      <td>0.2597</td>\n",
       "      <td>0.09744</td>\n",
       "      <td>...</td>\n",
       "      <td>26.50</td>\n",
       "      <td>98.87</td>\n",
       "      <td>567.7</td>\n",
       "      <td>0.20980</td>\n",
       "      <td>0.86630</td>\n",
       "      <td>0.6869</td>\n",
       "      <td>0.2575</td>\n",
       "      <td>0.6638</td>\n",
       "      <td>0.17300</td>\n",
       "      <td>0</td>\n",
       "    </tr>\n",
       "    <tr>\n",
       "      <th>4</th>\n",
       "      <td>20.29</td>\n",
       "      <td>14.34</td>\n",
       "      <td>135.10</td>\n",
       "      <td>1297.0</td>\n",
       "      <td>0.10030</td>\n",
       "      <td>0.13280</td>\n",
       "      <td>0.19800</td>\n",
       "      <td>0.10430</td>\n",
       "      <td>0.1809</td>\n",
       "      <td>0.05883</td>\n",
       "      <td>...</td>\n",
       "      <td>16.67</td>\n",
       "      <td>152.20</td>\n",
       "      <td>1575.0</td>\n",
       "      <td>0.13740</td>\n",
       "      <td>0.20500</td>\n",
       "      <td>0.4000</td>\n",
       "      <td>0.1625</td>\n",
       "      <td>0.2364</td>\n",
       "      <td>0.07678</td>\n",
       "      <td>0</td>\n",
       "    </tr>\n",
       "    <tr>\n",
       "      <th>...</th>\n",
       "      <td>...</td>\n",
       "      <td>...</td>\n",
       "      <td>...</td>\n",
       "      <td>...</td>\n",
       "      <td>...</td>\n",
       "      <td>...</td>\n",
       "      <td>...</td>\n",
       "      <td>...</td>\n",
       "      <td>...</td>\n",
       "      <td>...</td>\n",
       "      <td>...</td>\n",
       "      <td>...</td>\n",
       "      <td>...</td>\n",
       "      <td>...</td>\n",
       "      <td>...</td>\n",
       "      <td>...</td>\n",
       "      <td>...</td>\n",
       "      <td>...</td>\n",
       "      <td>...</td>\n",
       "      <td>...</td>\n",
       "      <td>...</td>\n",
       "    </tr>\n",
       "    <tr>\n",
       "      <th>564</th>\n",
       "      <td>21.56</td>\n",
       "      <td>22.39</td>\n",
       "      <td>142.00</td>\n",
       "      <td>1479.0</td>\n",
       "      <td>0.11100</td>\n",
       "      <td>0.11590</td>\n",
       "      <td>0.24390</td>\n",
       "      <td>0.13890</td>\n",
       "      <td>0.1726</td>\n",
       "      <td>0.05623</td>\n",
       "      <td>...</td>\n",
       "      <td>26.40</td>\n",
       "      <td>166.10</td>\n",
       "      <td>2027.0</td>\n",
       "      <td>0.14100</td>\n",
       "      <td>0.21130</td>\n",
       "      <td>0.4107</td>\n",
       "      <td>0.2216</td>\n",
       "      <td>0.2060</td>\n",
       "      <td>0.07115</td>\n",
       "      <td>0</td>\n",
       "    </tr>\n",
       "    <tr>\n",
       "      <th>565</th>\n",
       "      <td>20.13</td>\n",
       "      <td>28.25</td>\n",
       "      <td>131.20</td>\n",
       "      <td>1261.0</td>\n",
       "      <td>0.09780</td>\n",
       "      <td>0.10340</td>\n",
       "      <td>0.14400</td>\n",
       "      <td>0.09791</td>\n",
       "      <td>0.1752</td>\n",
       "      <td>0.05533</td>\n",
       "      <td>...</td>\n",
       "      <td>38.25</td>\n",
       "      <td>155.00</td>\n",
       "      <td>1731.0</td>\n",
       "      <td>0.11660</td>\n",
       "      <td>0.19220</td>\n",
       "      <td>0.3215</td>\n",
       "      <td>0.1628</td>\n",
       "      <td>0.2572</td>\n",
       "      <td>0.06637</td>\n",
       "      <td>0</td>\n",
       "    </tr>\n",
       "    <tr>\n",
       "      <th>566</th>\n",
       "      <td>16.60</td>\n",
       "      <td>28.08</td>\n",
       "      <td>108.30</td>\n",
       "      <td>858.1</td>\n",
       "      <td>0.08455</td>\n",
       "      <td>0.10230</td>\n",
       "      <td>0.09251</td>\n",
       "      <td>0.05302</td>\n",
       "      <td>0.1590</td>\n",
       "      <td>0.05648</td>\n",
       "      <td>...</td>\n",
       "      <td>34.12</td>\n",
       "      <td>126.70</td>\n",
       "      <td>1124.0</td>\n",
       "      <td>0.11390</td>\n",
       "      <td>0.30940</td>\n",
       "      <td>0.3403</td>\n",
       "      <td>0.1418</td>\n",
       "      <td>0.2218</td>\n",
       "      <td>0.07820</td>\n",
       "      <td>0</td>\n",
       "    </tr>\n",
       "    <tr>\n",
       "      <th>567</th>\n",
       "      <td>20.60</td>\n",
       "      <td>29.33</td>\n",
       "      <td>140.10</td>\n",
       "      <td>1265.0</td>\n",
       "      <td>0.11780</td>\n",
       "      <td>0.27700</td>\n",
       "      <td>0.35140</td>\n",
       "      <td>0.15200</td>\n",
       "      <td>0.2397</td>\n",
       "      <td>0.07016</td>\n",
       "      <td>...</td>\n",
       "      <td>39.42</td>\n",
       "      <td>184.60</td>\n",
       "      <td>1821.0</td>\n",
       "      <td>0.16500</td>\n",
       "      <td>0.86810</td>\n",
       "      <td>0.9387</td>\n",
       "      <td>0.2650</td>\n",
       "      <td>0.4087</td>\n",
       "      <td>0.12400</td>\n",
       "      <td>0</td>\n",
       "    </tr>\n",
       "    <tr>\n",
       "      <th>568</th>\n",
       "      <td>7.76</td>\n",
       "      <td>24.54</td>\n",
       "      <td>47.92</td>\n",
       "      <td>181.0</td>\n",
       "      <td>0.05263</td>\n",
       "      <td>0.04362</td>\n",
       "      <td>0.00000</td>\n",
       "      <td>0.00000</td>\n",
       "      <td>0.1587</td>\n",
       "      <td>0.05884</td>\n",
       "      <td>...</td>\n",
       "      <td>30.37</td>\n",
       "      <td>59.16</td>\n",
       "      <td>268.6</td>\n",
       "      <td>0.08996</td>\n",
       "      <td>0.06444</td>\n",
       "      <td>0.0000</td>\n",
       "      <td>0.0000</td>\n",
       "      <td>0.2871</td>\n",
       "      <td>0.07039</td>\n",
       "      <td>1</td>\n",
       "    </tr>\n",
       "  </tbody>\n",
       "</table>\n",
       "<p>569 rows × 31 columns</p>\n",
       "</div>"
      ],
      "text/plain": [
       "     mean radius  mean texture  mean perimeter  mean area  mean smoothness  \\\n",
       "0          17.99         10.38          122.80     1001.0          0.11840   \n",
       "1          20.57         17.77          132.90     1326.0          0.08474   \n",
       "2          19.69         21.25          130.00     1203.0          0.10960   \n",
       "3          11.42         20.38           77.58      386.1          0.14250   \n",
       "4          20.29         14.34          135.10     1297.0          0.10030   \n",
       "..           ...           ...             ...        ...              ...   \n",
       "564        21.56         22.39          142.00     1479.0          0.11100   \n",
       "565        20.13         28.25          131.20     1261.0          0.09780   \n",
       "566        16.60         28.08          108.30      858.1          0.08455   \n",
       "567        20.60         29.33          140.10     1265.0          0.11780   \n",
       "568         7.76         24.54           47.92      181.0          0.05263   \n",
       "\n",
       "     mean compactness  mean concavity  mean concave points  mean symmetry  \\\n",
       "0             0.27760         0.30010              0.14710         0.2419   \n",
       "1             0.07864         0.08690              0.07017         0.1812   \n",
       "2             0.15990         0.19740              0.12790         0.2069   \n",
       "3             0.28390         0.24140              0.10520         0.2597   \n",
       "4             0.13280         0.19800              0.10430         0.1809   \n",
       "..                ...             ...                  ...            ...   \n",
       "564           0.11590         0.24390              0.13890         0.1726   \n",
       "565           0.10340         0.14400              0.09791         0.1752   \n",
       "566           0.10230         0.09251              0.05302         0.1590   \n",
       "567           0.27700         0.35140              0.15200         0.2397   \n",
       "568           0.04362         0.00000              0.00000         0.1587   \n",
       "\n",
       "     mean fractal dimension  ...  worst texture  worst perimeter  worst area  \\\n",
       "0                   0.07871  ...          17.33           184.60      2019.0   \n",
       "1                   0.05667  ...          23.41           158.80      1956.0   \n",
       "2                   0.05999  ...          25.53           152.50      1709.0   \n",
       "3                   0.09744  ...          26.50            98.87       567.7   \n",
       "4                   0.05883  ...          16.67           152.20      1575.0   \n",
       "..                      ...  ...            ...              ...         ...   \n",
       "564                 0.05623  ...          26.40           166.10      2027.0   \n",
       "565                 0.05533  ...          38.25           155.00      1731.0   \n",
       "566                 0.05648  ...          34.12           126.70      1124.0   \n",
       "567                 0.07016  ...          39.42           184.60      1821.0   \n",
       "568                 0.05884  ...          30.37            59.16       268.6   \n",
       "\n",
       "     worst smoothness  worst compactness  worst concavity  \\\n",
       "0             0.16220            0.66560           0.7119   \n",
       "1             0.12380            0.18660           0.2416   \n",
       "2             0.14440            0.42450           0.4504   \n",
       "3             0.20980            0.86630           0.6869   \n",
       "4             0.13740            0.20500           0.4000   \n",
       "..                ...                ...              ...   \n",
       "564           0.14100            0.21130           0.4107   \n",
       "565           0.11660            0.19220           0.3215   \n",
       "566           0.11390            0.30940           0.3403   \n",
       "567           0.16500            0.86810           0.9387   \n",
       "568           0.08996            0.06444           0.0000   \n",
       "\n",
       "     worst concave points  worst symmetry  worst fractal dimension  target  \n",
       "0                  0.2654          0.4601                  0.11890       0  \n",
       "1                  0.1860          0.2750                  0.08902       0  \n",
       "2                  0.2430          0.3613                  0.08758       0  \n",
       "3                  0.2575          0.6638                  0.17300       0  \n",
       "4                  0.1625          0.2364                  0.07678       0  \n",
       "..                    ...             ...                      ...     ...  \n",
       "564                0.2216          0.2060                  0.07115       0  \n",
       "565                0.1628          0.2572                  0.06637       0  \n",
       "566                0.1418          0.2218                  0.07820       0  \n",
       "567                0.2650          0.4087                  0.12400       0  \n",
       "568                0.0000          0.2871                  0.07039       1  \n",
       "\n",
       "[569 rows x 31 columns]"
      ]
     },
     "execution_count": 4,
     "metadata": {},
     "output_type": "execute_result"
    }
   ],
   "source": [
    "def answer_one():\n",
    "    cancer = load_breast_cancer()  \n",
    "    # Your code here\n",
    "    df = pd.DataFrame(cancer['data'], columns=cancer['feature_names'])\n",
    "    df['target'] = cancer['target']\n",
    "    return df  # Return your answer\n",
    "\n",
    "answer_one()\n"
   ]
  },
  {
   "cell_type": "markdown",
   "metadata": {},
   "source": [
    "### Question 2\n",
    "What is the class distribution? (i.e. how many instances of `malignant` (encoded 0) and how many `benign` (encoded 1)?)\n",
    "\n",
    "*This function should return a Series named `target` of length 2 with integer values and index =* `['malignant', 'benign']`"
   ]
  },
  {
   "cell_type": "code",
   "execution_count": 5,
   "metadata": {
    "collapsed": true
   },
   "outputs": [
    {
     "data": {
      "text/plain": [
       "malignant    212\n",
       "benign       357\n",
       "Name: target, dtype: int64"
      ]
     },
     "execution_count": 5,
     "metadata": {},
     "output_type": "execute_result"
    }
   ],
   "source": [
    "def answer_two():\n",
    "    cancerdf = answer_one()\n",
    "    counts = cancerdf.target.value_counts(ascending=True)\n",
    "    counts.index = \"malignant benign\".split()\n",
    "    return counts\n",
    "\n",
    "answer_two()"
   ]
  },
  {
   "cell_type": "markdown",
   "metadata": {},
   "source": [
    "### Question 3\n",
    "Split the DataFrame into `X` (the data) and `y` (the labels).\n",
    "\n",
    "*This function should return a tuple of length 2:* `(X, y)`*, where* \n",
    "* `X`*, a pandas DataFrame, has shape* `(569, 30)`\n",
    "* `y`*, a pandas Series, has shape* `(569,)`."
   ]
  },
  {
   "cell_type": "code",
   "execution_count": 6,
   "metadata": {},
   "outputs": [],
   "source": [
    "cancerdf = answer_one()\n",
    "# Your code here\n",
    "X = list(cancerdf.drop('target',axis=1).itertuples(index=False,name=None))\n",
    "#X = list(X.itertuples(index=False,name=None))\n",
    "y = list(zip(cancerdf['target'],cancerdf['target'].index))"
   ]
  },
  {
   "cell_type": "code",
   "execution_count": 7,
   "metadata": {
    "collapsed": true
   },
   "outputs": [],
   "source": [
    "def answer_three():\n",
    "    cancerdf = answer_one()\n",
    "    X = cancerdf[cancerdf.columns[:-1]]\n",
    "    y = cancerdf.target\n",
    "    return X, y"
   ]
  },
  {
   "cell_type": "markdown",
   "metadata": {},
   "source": [
    "### Question 4\n",
    "Using `train_test_split`, split `X` and `y` into training and test sets `(X_train, X_test, y_train, and y_test)`.\n",
    "\n",
    "**Set the random number generator state to 0 using `random_state=0` to make sure your results match the autograder!**\n",
    "\n",
    "*This function should return a tuple of length 4:* `(X_train, X_test, y_train, y_test)`*, where* \n",
    "* `X_train` *has shape* `(426, 30)`\n",
    "* `X_test` *has shape* `(143, 30)`\n",
    "* `y_train` *has shape* `(426,)`\n",
    "* `y_test` *has shape* `(143,)`"
   ]
  },
  {
   "cell_type": "code",
   "execution_count": 8,
   "metadata": {
    "collapsed": true
   },
   "outputs": [],
   "source": [
    "from sklearn.model_selection import train_test_split\n",
    "\n",
    "def answer_four():\n",
    "    X, y = answer_three()\n",
    "    \n",
    "    # Your code here\n",
    "    X_train, X_test, y_train, y_test = train_test_split(X, y, train_size=426, test_size=143, random_state=0)\n",
    "    return X_train, X_test, y_train, y_test"
   ]
  },
  {
   "cell_type": "markdown",
   "metadata": {},
   "source": [
    "### Question 5\n",
    "Using KNeighborsClassifier, fit a k-nearest neighbors (knn) classifier with `X_train`, `y_train` and using one nearest neighbor (`n_neighbors = 1`).\n",
    "\n",
    "*This function should return a * `sklearn.neighbors.classification.KNeighborsClassifier`."
   ]
  },
  {
   "cell_type": "code",
   "execution_count": 9,
   "metadata": {
    "collapsed": true
   },
   "outputs": [],
   "source": [
    "from sklearn.neighbors import KNeighborsClassifier\n",
    "\n",
    "def answer_five():\n",
    "    X_train, X_test, y_train, y_test = answer_four()\n",
    "    \n",
    "    # Your code here\n",
    "    knn = KNeighborsClassifier(n_neighbors = 1)\n",
    "    knn.fit(X_train, y_train)\n",
    "    return knn# Return your answer"
   ]
  },
  {
   "cell_type": "markdown",
   "metadata": {},
   "source": [
    "### Question 6\n",
    "Using your knn classifier, predict the class label using the mean value for each feature.\n",
    "\n",
    "Hint: You can use `cancerdf.mean()[:-1].values.reshape(1, -1)` which gets the mean value for each feature, ignores the target column, and reshapes the data from 1 dimension to 2 (necessary for the precict method of KNeighborsClassifier).\n",
    "\n",
    "*This function should return a numpy array either `array([ 0.])` or `array([ 1.])`*"
   ]
  },
  {
   "cell_type": "code",
   "execution_count": 10,
   "metadata": {
    "collapsed": true
   },
   "outputs": [],
   "source": [
    "def answer_six():\n",
    "    cancerdf = answer_one()\n",
    "    means = cancerdf.mean()[:-1].values.reshape(1, -1)\n",
    "    knn = answer_five()\n",
    "    \n",
    "    return knn.predict(means)# Return your answer"
   ]
  },
  {
   "cell_type": "markdown",
   "metadata": {},
   "source": [
    "### Question 7\n",
    "Using your knn classifier, predict the class labels for the test set `X_test`.\n",
    "\n",
    "*This function should return a numpy array with shape `(143,)` and values either `0.0` or `1.0`.*"
   ]
  },
  {
   "cell_type": "code",
   "execution_count": 11,
   "metadata": {
    "collapsed": true
   },
   "outputs": [],
   "source": [
    "def answer_seven():\n",
    "    X_train, X_test, y_train, y_test = answer_four()\n",
    "    knn = answer_five()\n",
    "    \n",
    "    # Your code here\n",
    "    test_predictions = knn.predict(X_test)\n",
    "    return test_predictions # Return your answer"
   ]
  },
  {
   "cell_type": "markdown",
   "metadata": {},
   "source": [
    "### Question 8\n",
    "Find the score (mean accuracy) of your knn classifier using `X_test` and `y_test`.\n",
    "\n",
    "*This function should return a float between 0 and 1*"
   ]
  },
  {
   "cell_type": "code",
   "execution_count": 12,
   "metadata": {
    "collapsed": true
   },
   "outputs": [],
   "source": [
    "def answer_eight():\n",
    "    X_train, X_test, y_train, y_test = answer_four()\n",
    "    knn = answer_five()\n",
    "    \n",
    "    # Your code here\n",
    "    \n",
    "    return knn.score(X_test,y_test)# Return your answer"
   ]
  },
  {
   "cell_type": "markdown",
   "metadata": {},
   "source": [
    "### Optional plot\n",
    "\n",
    "Try using the plotting function below to visualize the differet predicition scores between training and test sets, as well as malignant and benign cells."
   ]
  },
  {
   "cell_type": "code",
   "execution_count": 13,
   "metadata": {
    "collapsed": true
   },
   "outputs": [],
   "source": [
    "def accuracy_plot():\n",
    "    import matplotlib.pyplot as plt\n",
    "\n",
    "    %matplotlib widget\n",
    "\n",
    "    X_train, X_test, y_train, y_test = answer_four()\n",
    "\n",
    "    # Find the training and testing accuracies by target value (i.e. malignant, benign)\n",
    "    mal_train_X = X_train[y_train==0]\n",
    "    mal_train_y = y_train[y_train==0]\n",
    "    ben_train_X = X_train[y_train==1]\n",
    "    ben_train_y = y_train[y_train==1]\n",
    "\n",
    "    mal_test_X = X_test[y_test==0]\n",
    "    mal_test_y = y_test[y_test==0]\n",
    "    ben_test_X = X_test[y_test==1]\n",
    "    ben_test_y = y_test[y_test==1]\n",
    "\n",
    "    knn = answer_five()\n",
    "\n",
    "    scores = [knn.score(mal_train_X, mal_train_y), knn.score(ben_train_X, ben_train_y), \n",
    "              knn.score(mal_test_X, mal_test_y), knn.score(ben_test_X, ben_test_y)]\n",
    "\n",
    "\n",
    "    plt.figure()\n",
    "\n",
    "    # Plot the scores as a bar chart\n",
    "    bars = plt.bar(np.arange(4), scores, color=['#4c72b0','#4c72b0','#55a868','#55a868'])\n",
    "\n",
    "    # directly label the score onto the bars\n",
    "    for bar in bars:\n",
    "        height = bar.get_height()\n",
    "        plt.gca().text(bar.get_x() + bar.get_width()/2, height*.90, '{0:.{1}f}'.format(height, 2), \n",
    "                     ha='center', color='w', fontsize=11)\n",
    "\n",
    "    # remove all the ticks (both axes), and tick labels on the Y axis\n",
    "    plt.tick_params(top='off', bottom='off', left='off', right='off', labelleft='off', labelbottom='on')\n",
    "\n",
    "    # remove the frame of the chart\n",
    "    for spine in plt.gca().spines.values():\n",
    "        spine.set_visible(False)\n",
    "\n",
    "    plt.xticks([0,1,2,3], ['Malignant\\nTraining', 'Benign\\nTraining', 'Malignant\\nTest', 'Benign\\nTest'], alpha=0.8);\n",
    "    plt.title('Training and Test Accuracies for Malignant and Benign Cells', alpha=0.8)"
   ]
  },
  {
   "cell_type": "markdown",
   "metadata": {},
   "source": [
    "Uncomment the plotting function to see the visualization.\n",
    "\n",
    "**Comment out** the plotting function when submitting your notebook for grading. "
   ]
  },
  {
   "cell_type": "code",
   "execution_count": 14,
   "metadata": {
    "collapsed": true
   },
   "outputs": [
    {
     "data": {
      "application/vnd.jupyter.widget-view+json": {
       "model_id": "4b227f5c65d44fc78846308a787f56e9",
       "version_major": 2,
       "version_minor": 0
      },
      "image/png": "[encoded data removed]",
      "text/html": [
       "\n",
       "            <div style=\"display: inline-block;\">\n",
       "                <div class=\"jupyter-widgets widget-label\" style=\"text-align: center;\">\n",
       "                    Figure\n",
       "                </div>\n",
       "                <img src='data:image/png;base64,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' width=640.0/>\n",
       "            </div>\n",
       "        "
      ],
      "text/plain": [
       "Canvas(toolbar=Toolbar(toolitems=[('Home', 'Reset original view', 'home', 'home'), ('Back', 'Back to previous …"
      ]
     },
     "metadata": {},
     "output_type": "display_data"
    }
   ],
   "source": [
    "accuracy_plot() "
   ]
  }
 ],
 "metadata": {
  "coursera": {
   "course_slug": "python-machine-learning",
   "graded_item_id": "f9SY5",
   "launcher_item_id": "oxndk",
   "part_id": "mh1Vo"
  },
  "kernelspec": {
   "display_name": "Python 3",
   "language": "python",
   "name": "python3"
  },
  "language_info": {
   "codemirror_mode": {
    "name": "ipython",
    "version": 3
   },
   "file_extension": ".py",
   "mimetype": "text/x-python",
   "name": "python",
   "nbconvert_exporter": "python",
   "pygments_lexer": "ipython3",
   "version": "3.11.1"
  },
  "vscode": {
   "interpreter": {
    "hash": "47bad14beceb6a9ba4f8ec41a71a990a63ca5a696a9b27ae577034193b9cb313"
   }
  }
 },
 "nbformat": 4,
 "nbformat_minor": 0
}
